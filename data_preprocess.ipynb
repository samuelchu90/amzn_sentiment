{
 "cells": [
  {
   "cell_type": "code",
   "execution_count": 16,
   "id": "846b1c4d",
   "metadata": {},
   "outputs": [],
   "source": [
    "import pandas as pd\n",
    "import json\n",
    "from datasets import load_dataset"
   ]
  },
  {
   "cell_type": "code",
   "execution_count": 17,
   "id": "648cd027",
   "metadata": {},
   "outputs": [
    {
     "data": {
      "text/plain": [
       "{'id': '0',\n",
       " 'locale': 'en-US',\n",
       " 'partition': 'test',\n",
       " 'scenario': 'alarm',\n",
       " 'intent': 'alarm_set',\n",
       " 'utt': 'wake me up at five am this week',\n",
       " 'annot_utt': 'wake me up at [time : five am] [date : this week]',\n",
       " 'worker_id': '1'}"
      ]
     },
     "execution_count": 17,
     "metadata": {},
     "output_type": "execute_result"
    }
   ],
   "source": [
    "jsonl_file_path = 'amzn_massive_dataset/data/en-US.jsonl'\n",
    "\n",
    "data = []\n",
    "\n",
    "with open(jsonl_file_path, 'r') as jsonl_file:\n",
    "    for line in jsonl_file.readlines():\n",
    "        data.append(json.loads(line))\n",
    "        \n",
    "data[0]"
   ]
  },
  {
   "cell_type": "code",
   "execution_count": 18,
   "id": "a50997f1",
   "metadata": {},
   "outputs": [
    {
     "name": "stdout",
     "output_type": "stream",
     "text": [
      "Dataframe Shape: (16521, 2)\n"
     ]
    },
    {
     "data": {
      "text/html": [
       "<div>\n",
       "<style scoped>\n",
       "    .dataframe tbody tr th:only-of-type {\n",
       "        vertical-align: middle;\n",
       "    }\n",
       "\n",
       "    .dataframe tbody tr th {\n",
       "        vertical-align: top;\n",
       "    }\n",
       "\n",
       "    .dataframe thead th {\n",
       "        text-align: right;\n",
       "    }\n",
       "</style>\n",
       "<table border=\"1\" class=\"dataframe\">\n",
       "  <thead>\n",
       "    <tr style=\"text-align: right;\">\n",
       "      <th></th>\n",
       "      <th>prompt</th>\n",
       "      <th>intent</th>\n",
       "    </tr>\n",
       "  </thead>\n",
       "  <tbody>\n",
       "    <tr>\n",
       "      <th>0</th>\n",
       "      <td>hey olly mute the speakers</td>\n",
       "      <td>audio_volume_mute</td>\n",
       "    </tr>\n",
       "    <tr>\n",
       "      <th>1</th>\n",
       "      <td>present time in new york</td>\n",
       "      <td>datetime_query</td>\n",
       "    </tr>\n",
       "    <tr>\n",
       "      <th>2</th>\n",
       "      <td>add diapers in cosmetic list</td>\n",
       "      <td>lists_createoradd</td>\n",
       "    </tr>\n",
       "    <tr>\n",
       "      <th>3</th>\n",
       "      <td>remove noodles from the list</td>\n",
       "      <td>lists_remove</td>\n",
       "    </tr>\n",
       "    <tr>\n",
       "      <th>4</th>\n",
       "      <td>olly tell me where the local shopping district is</td>\n",
       "      <td>recommendation_locations</td>\n",
       "    </tr>\n",
       "  </tbody>\n",
       "</table>\n",
       "</div>"
      ],
      "text/plain": [
       "                                              prompt                    intent\n",
       "0                         hey olly mute the speakers         audio_volume_mute\n",
       "1                           present time in new york            datetime_query\n",
       "2                       add diapers in cosmetic list         lists_createoradd\n",
       "3                       remove noodles from the list              lists_remove\n",
       "4  olly tell me where the local shopping district is  recommendation_locations"
      ]
     },
     "execution_count": 18,
     "metadata": {},
     "output_type": "execute_result"
    }
   ],
   "source": [
    "#https://stackoverflow.com/questions/24284342/insert-a-row-to-pandas-dataframe\n",
    "columns = ['prompt', 'intent']\n",
    "df_intent = pd.DataFrame(columns=columns)\n",
    "\n",
    "for d in data:\n",
    "    prompt = d['utt']\n",
    "    intent = d['intent']\n",
    "    df_intent = pd.concat([pd.DataFrame([[prompt, intent]], columns=df_intent.columns), df_intent], ignore_index=True)\n",
    "\n",
    "df_intent = df_intent.sample(frac=1.0, random_state=42).reset_index(drop=True)\n",
    "print(f'Dataframe Shape: {df_intent.shape}')\n",
    "df_intent.head()"
   ]
  },
  {
   "cell_type": "code",
   "execution_count": 19,
   "id": "66d38482",
   "metadata": {},
   "outputs": [],
   "source": [
    "train_ratio = 0.8\n",
    "val_ratio = 0.1\n",
    "test_ratio = 0.1"
   ]
  },
  {
   "cell_type": "code",
   "execution_count": 20,
   "id": "9e6e8874",
   "metadata": {},
   "outputs": [],
   "source": [
    "train_index = int(df_intent.shape[0]*train_ratio) #train set: [0, train_index]\n",
    "val_index = train_index + int(df_intent.shape[0]*val_ratio) #val set: [train_index, val_index]\n",
    "#test set: [val_index, last row]"
   ]
  },
  {
   "cell_type": "code",
   "execution_count": 21,
   "id": "9bf3aa13",
   "metadata": {
    "scrolled": true
   },
   "outputs": [
    {
     "name": "stdout",
     "output_type": "stream",
     "text": [
      "Size of Train df: 13216, size of Validation df: 1652, size of Test df: 1653\n"
     ]
    }
   ],
   "source": [
    "intent_df_train = df_intent.iloc[0: train_index]\n",
    "intent_df_val = df_intent.iloc[train_index: val_index]\n",
    "intent_df_test = df_intent.iloc[val_index:]\n",
    "\n",
    "print(f'Size of Train df: {len(intent_df_train)}, size of Validation df: {len(intent_df_val)}, \\\n",
    "size of Test df: {len(intent_df_test)}')"
   ]
  },
  {
   "cell_type": "code",
   "execution_count": 22,
   "id": "5703f49f",
   "metadata": {},
   "outputs": [],
   "source": [
    "intent_df_train.to_csv('intent_train.csv', index=False)\n",
    "intent_df_val.to_csv('intent_val.csv', index=False)\n",
    "intent_df_test.to_csv('intent_test.csv', index=False)"
   ]
  },
  {
   "cell_type": "code",
   "execution_count": 23,
   "id": "7d11440e",
   "metadata": {},
   "outputs": [
    {
     "data": {
      "application/vnd.jupyter.widget-view+json": {
       "model_id": "ca43c428346741b796739f5e9e35ecfe",
       "version_major": 2,
       "version_minor": 0
      },
      "text/plain": [
       "Generating train split: 0 examples [00:00, ? examples/s]"
      ]
     },
     "metadata": {},
     "output_type": "display_data"
    },
    {
     "data": {
      "application/vnd.jupyter.widget-view+json": {
       "model_id": "c3b1e99301164a5a8145d6ffa6de9474",
       "version_major": 2,
       "version_minor": 0
      },
      "text/plain": [
       "Generating train split: 0 examples [00:00, ? examples/s]"
      ]
     },
     "metadata": {},
     "output_type": "display_data"
    },
    {
     "data": {
      "application/vnd.jupyter.widget-view+json": {
       "model_id": "5b0dda0eb53941e895c0e084afd8ec11",
       "version_major": 2,
       "version_minor": 0
      },
      "text/plain": [
       "Generating train split: 0 examples [00:00, ? examples/s]"
      ]
     },
     "metadata": {},
     "output_type": "display_data"
    },
    {
     "data": {
      "text/plain": [
       "(DatasetDict({\n",
       "     train: Dataset({\n",
       "         features: ['prompt', 'intent'],\n",
       "         num_rows: 13216\n",
       "     })\n",
       " }),\n",
       " DatasetDict({\n",
       "     train: Dataset({\n",
       "         features: ['prompt', 'intent'],\n",
       "         num_rows: 1652\n",
       "     })\n",
       " }),\n",
       " DatasetDict({\n",
       "     train: Dataset({\n",
       "         features: ['prompt', 'intent'],\n",
       "         num_rows: 1653\n",
       "     })\n",
       " }))"
      ]
     },
     "execution_count": 23,
     "metadata": {},
     "output_type": "execute_result"
    }
   ],
   "source": [
    "train = load_dataset(\"csv\", data_files=\"intent_train.csv\")\n",
    "val = load_dataset(\"csv\", data_files=\"intent_val.csv\")\n",
    "test = load_dataset(\"csv\", data_files=\"intent_test.csv\")\n",
    "train, val, test"
   ]
  },
  {
   "cell_type": "code",
   "execution_count": null,
   "id": "fe81b68c",
   "metadata": {},
   "outputs": [],
   "source": []
  },
  {
   "cell_type": "code",
   "execution_count": null,
   "id": "167fe76f",
   "metadata": {},
   "outputs": [],
   "source": []
  },
  {
   "cell_type": "code",
   "execution_count": null,
   "id": "db022c16",
   "metadata": {},
   "outputs": [],
   "source": []
  }
 ],
 "metadata": {
  "kernelspec": {
   "display_name": "Python 3 (ipykernel)",
   "language": "python",
   "name": "python3"
  },
  "language_info": {
   "codemirror_mode": {
    "name": "ipython",
    "version": 3
   },
   "file_extension": ".py",
   "mimetype": "text/x-python",
   "name": "python",
   "nbconvert_exporter": "python",
   "pygments_lexer": "ipython3",
   "version": "3.10.10"
  }
 },
 "nbformat": 4,
 "nbformat_minor": 5
}
